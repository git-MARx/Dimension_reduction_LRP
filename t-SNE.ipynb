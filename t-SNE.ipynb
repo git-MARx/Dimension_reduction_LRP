{
 "cells": [
  {
   "cell_type": "code",
   "execution_count": 1,
   "metadata": {},
   "outputs": [],
   "source": [
    "import pandas as pd\n",
    "import numpy as np\n",
    "import random\n",
    "from sklearn.preprocessing import StandardScaler\n",
    "from sklearn.model_selection import train_test_split\n",
    "from sklearn.manifold import TSNE\n",
    "from sklearn.metrics import accuracy_score\n",
    "from sklearn.metrics import confusion_matrix\n",
    "from sklearn.metrics import classification_report\n",
    "from xgboost import XGBClassifier\n",
    "\n",
    "import matplotlib.pyplot as plt"
   ]
  },
  {
   "cell_type": "code",
   "execution_count": 2,
   "metadata": {},
   "outputs": [],
   "source": [
    "datatrain = pd.read_csv('data/yeast/yeast-train.csv')\n",
    "datatest = pd.read_csv('data/yeast/yeast-test.csv')\n",
    "\n",
    "datatrain.loc[datatrain['Class1'] ==\"b'0'\", 'Class1'] = 0\n",
    "datatrain.loc[datatrain['Class1'] ==\"b'1'\", 'Class1'] = 1\n",
    "datatest.loc[datatest['Class1'] ==\"b'0'\", 'Class1'] = 0\n",
    "datatest.loc[datatest['Class1'] ==\"b'1'\", 'Class1'] = 1\n",
    "\n",
    "dataset = pd.concat([datatrain, datatest], ignore_index=True)"
   ]
  },
  {
   "cell_type": "code",
   "execution_count": 3,
   "metadata": {},
   "outputs": [],
   "source": [
    "X = dataset.drop(['Class1','Class2','Class3','Class4','Class5','Class6','Class7','Class8','Class9','Class10','Class11','Class12','Class13','Class14'],axis=1)\n",
    "y = dataset['Class1']"
   ]
  },
  {
   "cell_type": "code",
   "execution_count": 4,
   "metadata": {},
   "outputs": [
    {
     "data": {
      "text/plain": [
       "(2417, 103)"
      ]
     },
     "execution_count": 4,
     "metadata": {},
     "output_type": "execute_result"
    }
   ],
   "source": [
    "X.shape"
   ]
  },
  {
   "cell_type": "code",
   "execution_count": 5,
   "metadata": {},
   "outputs": [],
   "source": [
    "y=y.values"
   ]
  },
  {
   "cell_type": "code",
   "execution_count": 6,
   "metadata": {},
   "outputs": [],
   "source": [
    "scaler = StandardScaler()\n",
    "scaler.fit(X)\n",
    "scaled_dataset = scaler.transform(X)"
   ]
  },
  {
   "cell_type": "code",
   "execution_count": null,
   "metadata": {},
   "outputs": [],
   "source": [
    "tsne = TSNE(n_components=2, verbose=1, perplexity=40, n_iter=300)\n",
    "lda.fit(scaled_dataset,y)"
   ]
  },
  {
   "cell_type": "code",
   "execution_count": null,
   "metadata": {},
   "outputs": [],
   "source": [
    "lda_dataset = lda.transform(scaled_dataset)"
   ]
  },
  {
   "cell_type": "code",
   "execution_count": null,
   "metadata": {},
   "outputs": [],
   "source": [
    "lda_dataset.shape"
   ]
  },
  {
   "cell_type": "code",
   "execution_count": null,
   "metadata": {},
   "outputs": [],
   "source": [
    "per_var = np.round(lda.explained_variance_ratio_*100, decimals=1)"
   ]
  },
  {
   "cell_type": "code",
   "execution_count": null,
   "metadata": {},
   "outputs": [],
   "source": [
    "labels = ['PC'+str(i) for i in range(1,len(per_var)+1)]"
   ]
  },
  {
   "cell_type": "code",
   "execution_count": null,
   "metadata": {},
   "outputs": [],
   "source": [
    "plt.subplots(figsize=(60,10))\n",
    "plt.bar(x=range(1,len(per_var)+1), height=per_var,tick_label=labels)\n",
    "plt.show()"
   ]
  },
  {
   "cell_type": "code",
   "execution_count": null,
   "metadata": {},
   "outputs": [],
   "source": [
    "random.seed(0)\n",
    "X_train,X_test, y_train,y_test =train_test_split(lda_dataset,y,test_size=0.2,random_state=0)\n",
    "print(X_train.shape)\n",
    "print(X_test.shape)"
   ]
  },
  {
   "cell_type": "code",
   "execution_count": null,
   "metadata": {},
   "outputs": [],
   "source": [
    "a = [el/100 for el in range(1,101) ]\n"
   ]
  },
  {
   "cell_type": "code",
   "execution_count": null,
   "metadata": {},
   "outputs": [],
   "source": [
    "mxa=0\n",
    "for i in a:\n",
    "    xgbclassifier = XGBClassifier(learning_rate=i)\n",
    "    xgbclassifier.fit(X_train, y_train)\n",
    "    y_pred = xgbclassifier.predict(X_test)\n",
    "    accuracy = accuracy_score(y_test, y_pred)\n",
    "#     print(\"Accuracy: %.2f%%\" % (accuracy * 100.0))\n",
    "    if accuracy>mxa:\n",
    "        mxa=accuracy\n",
    "        print(mxa,i)"
   ]
  },
  {
   "cell_type": "code",
   "execution_count": null,
   "metadata": {},
   "outputs": [],
   "source": [
    "from sklearn.svm import SVC\n",
    "\n",
    "svmclassifier = SVC(kernel='linear' ,random_state=0)\n",
    "svmclassifier.fit(X_train,y_train)\n",
    "y_pred_svm = svmclassifier.predict(X_test)\n",
    "\n",
    "cm = confusion_matrix(y_test,y_pred_svm)\n",
    "print(cm)\n",
    "accuracy=accuracy_score(y_test, y_pred_svm)\n",
    "print(\"Accuracy: %.2f%%\" % (accuracy * 100.0))"
   ]
  },
  {
   "cell_type": "code",
   "execution_count": null,
   "metadata": {},
   "outputs": [],
   "source": [
    "from sklearn.ensemble import RandomForestClassifier\n",
    "mxa = 0\n",
    "for i in range(1,51):\n",
    "    rfclassifier = RandomForestClassifier(n_estimators=i*5,criterion='entropy',random_state=0)\n",
    "    rfclassifier.fit(X_train,y_train)\n",
    "    y_pred_randForest = rfclassifier.predict(X_test)\n",
    "    accuracy=accuracy_score(y_test, y_pred_randForest)\n",
    "    if accuracy>mxa:\n",
    "        mxa=accuracy\n",
    "        print(accuracy,(i*5))\n",
    "print(\"Accuracy: %.2f%%\" % (accuracy * 100.0))"
   ]
  },
  {
   "cell_type": "code",
   "execution_count": null,
   "metadata": {},
   "outputs": [],
   "source": [
    "# Packages for training model\n",
    "from keras.models import Sequential\n",
    "from keras.layers.core import Dense, Dropout\n",
    "from keras.utils import np_utils\n",
    "from keras.optimizers import Adam\n",
    "from keras.models import model_from_json\n",
    "from keras.regularizers import l2\n",
    "from keras.layers.normalization import BatchNormalization\n",
    "\n",
    "# Packages for explanation\n",
    "from keras import backend as K\n",
    "from keras.models import Model\n",
    "from deepexplain.tensorflow import DeepExplain\n",
    "from IPython.display import display, HTML\n",
    "import matplotlib.pyplot as plt"
   ]
  },
  {
   "cell_type": "code",
   "execution_count": null,
   "metadata": {},
   "outputs": [],
   "source": [
    "sgdOptimizer = 'adam'\n",
    "lossFun='categorical_crossentropy'\n",
    "finalLayerActivation = 'softmax'\n",
    "batchSize=25\n",
    "numEpochs = 500\n",
    "nb_classes = 2\n",
    "inputDim=1"
   ]
  },
  {
   "cell_type": "code",
   "execution_count": null,
   "metadata": {},
   "outputs": [],
   "source": [
    "trainY=np_utils.to_categorical(y_train, num_classes = nb_classes)\n",
    "testY=np_utils.to_categorical(y_test, num_classes = nb_classes)"
   ]
  },
  {
   "cell_type": "code",
   "execution_count": null,
   "metadata": {},
   "outputs": [],
   "source": [
    "model = Sequential()\n",
    "model.add(BatchNormalization(input_shape=(inputDim,)))\n",
    "model.add(Dense(32, activation='relu'))\n",
    "model.add(Dropout(rate=0.5))\n",
    "model.add(BatchNormalization())\n",
    "model.add(Dense(32, activation='relu'))\n",
    "model.add(Dropout(rate=0.5))\n",
    "model.add(BatchNormalization())\n",
    "model.add(Dense(32, activation='relu'))\n",
    "model.add(Dropout(rate=0.5))\n",
    "model.add(Dense(nb_classes, activation=finalLayerActivation))\n",
    "model.compile(loss=lossFun, optimizer=sgdOptimizer, metrics=[\"accuracy\"])\n",
    "print(model.summary())"
   ]
  },
  {
   "cell_type": "code",
   "execution_count": null,
   "metadata": {},
   "outputs": [],
   "source": [
    "model.fit(X_train,trainY,validation_data=(X_test,testY) ,batch_size=batchSize, epochs=numEpochs, verbose=1)\n",
    "trainScore = model.evaluate(X_train,trainY, verbose=0)\n",
    "print(\"%s: %.2f%%\" % (model.metrics_names[1], trainScore[1]*100))\n",
    "testScore = model.evaluate(X_test,testY, verbose=0)\n",
    "print(\"%s: %.2f%%\" % (model.metrics_names[1], testScore[1]*100))"
   ]
  },
  {
   "cell_type": "code",
   "execution_count": null,
   "metadata": {},
   "outputs": [],
   "source": []
  }
 ],
 "metadata": {
  "kernelspec": {
   "display_name": "Python 3",
   "language": "python",
   "name": "python3"
  },
  "language_info": {
   "codemirror_mode": {
    "name": "ipython",
    "version": 3
   },
   "file_extension": ".py",
   "mimetype": "text/x-python",
   "name": "python",
   "nbconvert_exporter": "python",
   "pygments_lexer": "ipython3",
   "version": "3.7.2"
  }
 },
 "nbformat": 4,
 "nbformat_minor": 2
}
